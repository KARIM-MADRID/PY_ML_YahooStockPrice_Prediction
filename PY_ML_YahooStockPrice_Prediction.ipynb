{
 "cells": [
  {
   "cell_type": "code",
   "execution_count": 1,
   "id": "cab70cad",
   "metadata": {},
   "outputs": [],
   "source": [
    "import threading\n",
    "import pandas as pd\n",
    "import pandas_datareader.data as web\n",
    "import datetime\n",
    "from sklearn import linear_model\n",
    "from time import sleep\n",
    "import joblib"
   ]
  },
  {
   "cell_type": "code",
   "execution_count": 2,
   "id": "0fab0a69",
   "metadata": {},
   "outputs": [],
   "source": [
    "# this class is to give colors to the print statements\n",
    "class bcolors:\n",
    "    HEADER = '\\033[95m'\n",
    "    OKBLUE = '\\033[94m'\n",
    "    OKCYAN = '\\033[96m'\n",
    "    OKGREEN = '\\033[92m'\n",
    "    WARNING = '\\033[93m'\n",
    "    FAIL = '\\033[91m'\n",
    "    ENDC = '\\033[0m'\n",
    "    BOLD = '\\033[1m'\n",
    "    UNDERLINE = '\\033[4m'"
   ]
  },
  {
   "cell_type": "code",
   "execution_count": 3,
   "id": "b9c6655f",
   "metadata": {},
   "outputs": [],
   "source": [
    "# This function trains the model using the input data(dataframe)\n",
    "def train(input):\n",
    "    print(\"\\nModel updating...\", end=\" \")\n",
    "    # We take last column of the features as target and rest are taken as attributes\n",
    "    featureMat = input.iloc[:, : len(input.columns) - 1]\n",
    "    label = input[input.columns[-1]]\n",
    "    # Here we are using linear regression model\n",
    "    model = linear_model.LinearRegression()\n",
    "    model.fit(featureMat, label)\n",
    "    # Model is being written on the hard drive\n",
    "    joblib.dump(model, \"modelLR.pkl\")\n",
    "    print(\"[Completed]\")\n"
   ]
  },
  {
   "cell_type": "code",
   "execution_count": 4,
   "id": "e8f001a2",
   "metadata": {},
   "outputs": [],
   "source": [
    "##########################  Training over  ################################\n",
    "\n",
    "# Increase the values of these variables to get improved results\n",
    "# but if you will increase them then you have to wait for\n",
    "#\n",
    "#               (number_of_features X training_record_criteran) X steep_time units seconds\n",
    "#\n",
    "# for first training\n",
    "\n",
    "number_of_features = 5  # This indicates how many columns the dataframe will have.\n",
    "training_record_criterian = 5  # This decides how frequently the model will update [5 new features -> retrain the model]\n",
    "number_of_predictions = 3  # Tells how many prediction in series you want"
   ]
  },
  {
   "cell_type": "code",
   "execution_count": 6,
   "id": "fda01673",
   "metadata": {},
   "outputs": [
    {
     "ename": "NameError",
     "evalue": "name 'getprice' is not defined",
     "output_type": "error",
     "traceback": [
      "\u001b[1;31m---------------------------------------------------------------------------\u001b[0m",
      "\u001b[1;31mNameError\u001b[0m                                 Traceback (most recent call last)",
      "Input \u001b[1;32mIn [6]\u001b[0m, in \u001b[0;36m<cell line: 7>\u001b[1;34m()\u001b[0m\n\u001b[0;32m      7\u001b[0m feature \u001b[38;5;241m=\u001b[39m \u001b[38;5;28mlist\u001b[39m()  \u001b[38;5;66;03m# stores the features for a single record for dataframe\u001b[39;00m\n\u001b[0;32m      9\u001b[0m \u001b[38;5;28;01mfor\u001b[39;00m i \u001b[38;5;129;01min\u001b[39;00m \u001b[38;5;28mrange\u001b[39m(number_of_features):\n\u001b[1;32m---> 11\u001b[0m     price \u001b[38;5;241m=\u001b[39m \u001b[43mgetprice\u001b[49m()[\u001b[38;5;241m0\u001b[39m]\n\u001b[0;32m     12\u001b[0m     feature\u001b[38;5;241m.\u001b[39mappend(price)\n\u001b[0;32m     13\u001b[0m     predict_input\u001b[38;5;241m.\u001b[39mappend(price)\n",
      "\u001b[1;31mNameError\u001b[0m: name 'getprice' is not defined"
     ]
    }
   ],
   "source": [
    "data = pd.DataFrame(columns=range(number_of_features))  # creating an empty dataframe\n",
    "\n",
    "predict_input = list()\n",
    "\n",
    "while 1:\n",
    "\n",
    "    feature = list()  # stores the features for a single record for dataframe\n",
    "\n",
    "    for i in range(number_of_features):\n",
    "\n",
    "        price = getprice()[0]\n",
    "        feature.append(price)\n",
    "        predict_input.append(price)\n",
    "\n",
    "        try:  # this will throw exception in two cases:\n",
    "            # 1> model is not yet trained and saved\n",
    "            # 2> model prediction is not working.\n",
    "\n",
    "            first_predict = True  # flag for detecting the first prediction in predicted series\n",
    "            model = joblib.load(\"modelLR.pkl\")  # trying to open the saved model (can throw exception)\n",
    "            print(\"\")\n",
    "            inputlist = predict_input.copy()  # copying the list to make the prediction if model is ready\n",
    "            #   printing latest 3 prices\n",
    "            for feature_value in inputlist[-(3):]:\n",
    "                print(f\"{bcolors.WARNING} --> \", int(feature_value * 100) / 100, end=\" \")\n",
    "            #   taking the latest price\n",
    "            price = getprice(sleep_time=0)[0]\n",
    "            #   Starting the predictions\n",
    "            for i in range(number_of_predictions):\n",
    "                pre_price = model.predict([inputlist[-(number_of_features - 1):]])\n",
    "                #   printing the predicted values one by one in the series\n",
    "                print(f\"{bcolors.OKBLUE} --> \", int(pre_price[0] * 100) / 100, end=\" \")\n",
    "                #   This block will only run for the first prediction in series\n",
    "                if first_predict:\n",
    "                    # When prediction tells about increase in price\n",
    "                    if pre_price[0] - inputlist[-1] > 0:\n",
    "                        print(f\"{bcolors.OKGREEN}  \\u2191\", end=\"\")\n",
    "                        #   Calculating the % of increase the program predicts and printing.\n",
    "                        print(f\"{bcolors.BOLD}[\", int((pre_price[0] - price) * 1000000 / price) / 10000, \"%] \", end=\" \")\n",
    "                        print(f\"{bcolors.OKCYAN} Actual: \", price, end=\"\")\n",
    "                    # When prediction says that no change will happen\n",
    "                    elif pre_price[0] - inputlist[-1] == 0:\n",
    "                        print(f\"{bcolors.HEADER} \\u2022\", end=\"\")\n",
    "                        print(f\"{bcolors.BOLD}[\", int((pre_price[0] - price) * 1000000 / price) / 10000, \"%] \", end=\" \")\n",
    "                        print(f\"{bcolors.OKCYAN} Actual: \", price, end=\"\")\n",
    "                    # When prediction is about decrease in price\n",
    "                    else:\n",
    "                        print(f\"{bcolors.FAIL}  \\u2193\", end=\"\")\n",
    "                        print(f\"{bcolors.BOLD}[\", int(-(pre_price[0] - price) * 1000000 / price) / 10000, \"%] \",\n",
    "                              end=\" \")\n",
    "                        print(f\"{bcolors.OKCYAN} Actual: \", price, end=\"\")\n",
    "                    # Next statement talk about what happened actually\n",
    "                    if price - inputlist[-1] > 0:\n",
    "                        print(f\"{bcolors.OKGREEN}  \\u2191\", end=\" \")\n",
    "                    elif price - inputlist[-1] == 0:\n",
    "                        print(f\"{bcolors.HEADER} \\u2022\", end=\"\")\n",
    "                    else:\n",
    "                        print(f\"{bcolors.FAIL}  \\u2193\", end=\" \")\n",
    "\n",
    "                    first_predict = False\n",
    "                     #   pushing the predicted price in the back of the input array..\n",
    "                #   it will be used in predicting next element in the series\n",
    "                inputlist.append(pre_price[0])\n",
    "        except:\n",
    "\n",
    "            print(\"Please Wait while the model is getting ready...\")\n",
    "    #   Adding the feature in the dataframe\n",
    "    data.loc[len(data.index)] = feature\n",
    "    #   If number of elements present in the dataframe is multiple of training record criterian, the retraining\n",
    "    if len(data.index) % training_record_criterian == 0:\n",
    "        # print(data)\n",
    "        #   training in separate thread\n",
    "        trainer = threading.Thread(target=train, args=(data,))\n",
    "        trainer.start()\n",
    "        trainer.join()"
   ]
  },
  {
   "cell_type": "code",
   "execution_count": null,
   "id": "300b5ae2",
   "metadata": {},
   "outputs": [],
   "source": []
  },
  {
   "cell_type": "code",
   "execution_count": null,
   "id": "2e014f99",
   "metadata": {},
   "outputs": [],
   "source": []
  },
  {
   "cell_type": "code",
   "execution_count": null,
   "id": "863eb41f",
   "metadata": {},
   "outputs": [],
   "source": []
  },
  {
   "cell_type": "code",
   "execution_count": null,
   "id": "5aa7716c",
   "metadata": {},
   "outputs": [],
   "source": []
  },
  {
   "cell_type": "code",
   "execution_count": null,
   "id": "98a877bd",
   "metadata": {},
   "outputs": [],
   "source": []
  }
 ],
 "metadata": {
  "kernelspec": {
   "display_name": "Python 3 (ipykernel)",
   "language": "python",
   "name": "python3"
  },
  "language_info": {
   "codemirror_mode": {
    "name": "ipython",
    "version": 3
   },
   "file_extension": ".py",
   "mimetype": "text/x-python",
   "name": "python",
   "nbconvert_exporter": "python",
   "pygments_lexer": "ipython3",
   "version": "3.9.12"
  }
 },
 "nbformat": 4,
 "nbformat_minor": 5
}
